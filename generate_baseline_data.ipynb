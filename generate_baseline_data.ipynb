{
 "cells": [
  {
   "cell_type": "code",
   "execution_count": null,
   "id": "75c4b2eb",
   "metadata": {},
   "outputs": [],
   "source": [
    "import subprocess\n",
    "import shlex"
   ]
  },
  {
   "cell_type": "code",
   "execution_count": null,
   "id": "3ceb2fc7",
   "metadata": {},
   "outputs": [],
   "source": [
    "def run_linux_command_safely(command, printer=0):\n",
    "    try:\n",
    "        # Run the command and capture the output\n",
    "        result = subprocess.run(shlex.split(command), check=True, stdout=subprocess.PIPE, stderr=subprocess.PIPE)\n",
    "\n",
    "        # Print the output\n",
    "        if printer==1:\n",
    "            print(\"Command Output:\")\n",
    "            print(result.stdout.decode('utf-8'))\n",
    "\n",
    "        # Print any errors\n",
    "        if result.stderr:\n",
    "            print(\"Errors:\")\n",
    "            print(result.stderr.decode('utf-8'))\n",
    "\n",
    "    except subprocess.CalledProcessError as e:\n",
    "        print(f\"Error: Command '{e.cmd}' failed with return code {e.returncode}\")\n",
    "        print(\"Error Output:\")\n",
    "        print(e.output.decode('utf-8'))\n",
    "\n",
    "# Example: Run 'ls' command safely\n",
    "#user_input = input(\"Enter a command: \")\n",
    "#run_linux_command_safely(user_input)"
   ]
  },
  {
   "cell_type": "code",
   "execution_count": null,
   "id": "1282a23b",
   "metadata": {},
   "outputs": [],
   "source": [
    "total_datasets = 10000\n",
    "for index in range(1,total_datasets+1):\n",
    "    filename = \"out\" + str(index)\n",
    "    cmd1 = \"mkdir Dataset/\"+filename\n",
    "    cmd2 = \"./Parquet.exe -plotNoNets -save Dataset/\"+filename+\"/\"+filename+\" -f TESTS/ami33\"\n",
    "    run_linux_command_safely(cmd1)\n",
    "    run_linux_command_safely(cmd2)"
   ]
  },
  {
   "cell_type": "code",
   "execution_count": null,
   "id": "19e5fb95",
   "metadata": {},
   "outputs": [],
   "source": []
  }
 ],
 "metadata": {
  "kernelspec": {
   "display_name": "Python 3 (ipykernel)",
   "language": "python",
   "name": "python3"
  },
  "language_info": {
   "codemirror_mode": {
    "name": "ipython",
    "version": 3
   },
   "file_extension": ".py",
   "mimetype": "text/x-python",
   "name": "python",
   "nbconvert_exporter": "python",
   "pygments_lexer": "ipython3",
   "version": "3.11.5"
  }
 },
 "nbformat": 4,
 "nbformat_minor": 5
}
