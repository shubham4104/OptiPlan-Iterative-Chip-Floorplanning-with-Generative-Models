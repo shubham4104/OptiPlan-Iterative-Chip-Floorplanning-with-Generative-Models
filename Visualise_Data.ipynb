{
 "cells": [
  {
   "cell_type": "code",
   "execution_count": 1,
   "id": "2765e8c1",
   "metadata": {},
   "outputs": [],
   "source": [
    "import matplotlib.pyplot as plt\n",
    "import matplotlib.patches as patches"
   ]
  },
  {
   "cell_type": "code",
   "execution_count": 52,
   "id": "9575bec8",
   "metadata": {},
   "outputs": [],
   "source": [
    "def parse_blocks_file(file_path):\n",
    "    blocks = {}\n",
    "    with open(file_path, 'r') as file:\n",
    "        for line in file:\n",
    "            if line.strip():  # Ignore empty lines\n",
    "                parts = line.split()\n",
    "                if parts[0]==\"VSS\":\n",
    "                    break\n",
    "                if len(parts) >= 5:\n",
    "                    block_name = parts[0]\n",
    "                    x = int(parts[1])\n",
    "                    y = int(parts[2])\n",
    "\n",
    "                    # Extract width and height from the string, removing parentheses\n",
    "                    part1 = parts[5].replace(',', '').replace('(', '')\n",
    "                    part2 = parts[6].replace('(', '').replace(')', '')\n",
    "                    width = int(part1)\n",
    "                    height = int(part2)\n",
    "\n",
    "                    direction = parts[6] if len(parts) >= 7 else None\n",
    "\n",
    "                    blocks[block_name] = {'x': x, 'y': y, 'width': width, 'height': height, 'direction': direction}\n",
    "\n",
    "    return blocks"
   ]
  },
  {
   "cell_type": "code",
   "execution_count": 59,
   "id": "1c4b9236",
   "metadata": {},
   "outputs": [],
   "source": [
    "def generate_image(blocks):\n",
    "    fig, ax = plt.subplots()\n",
    "\n",
    "    for block, properties in blocks.items():\n",
    "        x = properties['x']\n",
    "        y = properties['y']\n",
    "        width = properties['width']\n",
    "        height = properties['height']\n",
    "        direction = properties['direction']\n",
    "\n",
    "        print(x,y,width,height)\n",
    "        # Adjust width and height based on the direction\n",
    "        if direction in ['W', 'E', 'FE', 'FW']:\n",
    "            width, height = height, width\n",
    "\n",
    "        rect = patches.Rectangle((x, y), width, height, fill=True, edgecolor='black')\n",
    "        ax.add_patch(rect)\n",
    "\n",
    "        # Add text indicating the direction\n",
    "#         if direction:\n",
    "#             ax.text(x + width / 2, y + height / 2, direction, ha='center', va='center', color='white')\n",
    "\n",
    "    ax.set_xlim(-100, 1500)  # Adjust the axis limits as needed\n",
    "    ax.set_ylim(-100, 1500)\n",
    "    ax.set_aspect('equal', 'box')\n",
    "    #plt.gca().invert_yaxis()  # Invert y-axis to match typical coordinate systems\n",
    "    plt.show()"
   ]
  },
  {
   "cell_type": "code",
   "execution_count": 65,
   "id": "b1805d56",
   "metadata": {},
   "outputs": [
    {
     "name": "stdout",
     "output_type": "stream",
     "text": [
      "700 469 336 133\n",
      "119 504 119 378\n",
      "238 742 161 140\n",
      "357 959 119 49\n",
      "1043 336 175 119\n",
      "266 469 406 140\n",
      "343 0 497 140\n",
      "161 889 196 119\n",
      "0 231 119 294\n",
      "0 889 161 119\n",
      "917 742 119 266\n",
      "945 0 119 336\n",
      "917 602 119 126\n",
      "441 154 371 182\n",
      "399 735 203 182\n",
      "1036 455 182 203\n",
      "861 21 84 119\n",
      "133 210 133 294\n",
      "1036 658 182 350\n",
      "602 735 315 140\n",
      "602 875 315 133\n",
      "476 336 560 133\n",
      "266 329 133 140\n",
      "812 161 133 175\n",
      "0 0 133 231\n",
      "1085 21 133 315\n",
      "343 140 98 182\n",
      "133 0 210 210\n",
      "539 609 378 126\n",
      "357 609 182 119\n",
      "238 609 119 119\n",
      "0 525 119 357\n",
      "483 924 119 84\n"
     ]
    },
    {
     "data": {
      "image/png": "[encoded data removed]",
      "text/plain": [
       "<Figure size 640x480 with 1 Axes>"
      ]
     },
     "metadata": {},
     "output_type": "display_data"
    }
   ],
   "source": [
    "file_path = \"Dataset/out4/out4.pl\"  # Replace with the actual path to your file\n",
    "blocks = parse_blocks_file(file_path)\n",
    "generate_image(blocks)"
   ]
  },
  {
   "cell_type": "code",
   "execution_count": 66,
   "id": "1256cf51",
   "metadata": {},
   "outputs": [
    {
     "data": {
      "image/png": "[encoded data removed]",
      "text/plain": [
       "<Figure size 640x480 with 1 Axes>"
      ]
     },
     "metadata": {},
     "output_type": "display_data"
    }
   ],
   "source": [
    "def plot_single_block(x, y, width, height, direction=None):\n",
    "    fig, ax = plt.subplots()  # Adjust the figure size as needed\n",
    "\n",
    "    # Adjust width and height based on the direction\n",
    "    if direction in ('FS', 'BS'):\n",
    "        width, height = height, width\n",
    "\n",
    "    rect = patches.Rectangle((x, y), width, height, fill=True, edgecolor='black')\n",
    "    ax.add_patch(rect)\n",
    "    \n",
    "    rect = patches.Rectangle((x+30, y+30), width, height, fill=True, edgecolor='black')\n",
    "    ax.add_patch(rect)\n",
    "\n",
    "    # Add text indicating the direction\n",
    "    if direction:\n",
    "        ax.text(x + width / 2, y + height / 2, direction, ha='center', va='center', color='white')\n",
    "\n",
    "    ax.set_aspect('equal', 'box')\n",
    "    ax.set_xlim(x - 50, x + width + 50)  # Adjust the axis limits as needed\n",
    "    ax.set_ylim(y - 50, y + height + 50)\n",
    "    plt.gca().invert_yaxis()  # Invert y-axis to match typical coordinate systems\n",
    "    plt.show()\n",
    "\n",
    "# Example: Plot a single block\n",
    "plot_single_block(x=100, y=100, width=50, height=80, direction='FS')"
   ]
  },
  {
   "cell_type": "code",
   "execution_count": null,
   "id": "6aa8fd53",
   "metadata": {},
   "outputs": [],
   "source": []
  },
  {
   "cell_type": "code",
   "execution_count": null,
   "id": "94bd136d",
   "metadata": {},
   "outputs": [],
   "source": []
  }
 ],
 "metadata": {
  "kernelspec": {
   "display_name": "Python 3 (ipykernel)",
   "language": "python",
   "name": "python3"
  },
  "language_info": {
   "codemirror_mode": {
    "name": "ipython",
    "version": 3
   },
   "file_extension": ".py",
   "mimetype": "text/x-python",
   "name": "python",
   "nbconvert_exporter": "python",
   "pygments_lexer": "ipython3",
   "version": "3.11.5"
  }
 },
 "nbformat": 4,
 "nbformat_minor": 5
}
